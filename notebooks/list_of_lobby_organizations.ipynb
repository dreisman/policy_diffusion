{
 "cells": [
  {
   "cell_type": "code",
   "execution_count": 7,
   "metadata": {
    "collapsed": true
   },
   "outputs": [],
   "source": [
    "import xlrd"
   ]
  },
  {
   "cell_type": "code",
   "execution_count": 15,
   "metadata": {
    "collapsed": false
   },
   "outputs": [],
   "source": [
    "workbook = xlrd.open_workbook('LobbyList.xls')\n",
    "sheet = workbook.sheet_by_index(0)\n",
    "this_row = 0\n",
    "\n",
    "lobby_list = []\n",
    "for element in xrange(73):\n",
    "    lobby_list.append(str(sheet.cell(this_row, 0)).split(':')[1])\n",
    "    this_row += 1"
   ]
  },
  {
   "cell_type": "code",
   "execution_count": 16,
   "metadata": {
    "collapsed": false
   },
   "outputs": [
    {
     "name": "stdout",
     "output_type": "stream",
     "text": [
      "[\"u'60 Plus Association'\", \"u'AARP'\", \"u'AeA'\", \"u'Aircraft Kit Industry Association'\", \"u'Alexander Strategy Group'\", \"u'Association of Mature American Citizens'\", \"u'America\\\\u2019s Infrastructure Alliance'\", \"u'American Automobile Association'\", \"u'American Council of Life Insurers'\", \"u'American Highway Users Alliance'\", \"u'American Israel Public Affairs Committee'\", \"u'American Motor League'\", \"u'AMVETS'\", \"u'Assembly of the Friends of Azerbaijan'\", \"u'Association for Competitive Technology'\", \"u'Biotechnology Industry Organization'\", \"u'Business Roundtable'\", \"u'California Newspaper Publishers Association'\", \"u'Center for Arizona Policy'\", \"u'Center for Regulatory Effectiveness'\", 'u\"Children\\'s Healthcare is a Legal Duty\"', \"u'CitizenGo'\", \"u'Clearing House Association'\", \"u'The Clearing House Payments Company'\", \"u'Coalition for 21st Century Patent Reform'\", \"u'Coalition for Patent Fairness'\", \"u'Disabled American Veterans'\", \"u'FWD.us'\", \"u'GeorgiaCarry.org'\", \"u'Gun Owners of America'\", \"u'Independent Insurance Agents & Brokers of America'\", \"u'Information Technology Association of America'\", \"u'Internet Association'\", \"u'Irish National Caucus'\", \"u'K Street Project'\", \"u'Ladies of Liberty Alliance'\", \"u'Lao Veterans of America'\", \"u'Louisiana Association of Business and Industry'\", \"u'Military Officers Association of America'\", \"u'NARAL Pro-Choice America'\", \"u'National Air Transportation Association'\", \"u'National Association for Gun Rights'\", \"u'National Association of Credit Management'\", \"u'National Association of Police Organizations'\", \"u'Protect (political organization)'\", \"u'National Coffee Association'\", \"u'National Committee to Preserve Social Security and Medicare'\", \"u'National Federation of Independent Business'\", \"u'National Jewish Democratic Council'\", \"u'National Organization for Marriage'\", \"u'National Rifle Association'\", \"u'Newspaper Association of America'\", \"u'Nutritional Health Alliance'\", \"u'Oklahomans for Children and Families'\", \"u'Pennsylvania NewsMedia Association'\", \"u'Pharmaceutical Research and Manufacturers of America'\", \"u'Private Equity Growth Capital Council'\", \"u'Public Affairs Alliance of Iranian Americans'\", \"u'Reality Check (program)'\", \"u'Religious Action Center of Reform Judaism'\", \"u'Republican Jewish Coalition'\", 'u\"Save Ben & Jerry\\'s\"', \"u'Sentinels of the Republic'\", \"u'Sons of Confederate Veterans'\", 'u\"State motorcyclists\\' rights organizations\"', \"u'Tavern League of Wisconsin'\", \"u'TechNet (lobbying organization)'\", \"u'Transportation for America'\", \"u'U.S. Track & Field and Cross Country Coaches Association'\", \"u'United Daughters of the Confederacy'\", \"u'United States Business and Industry Council'\", \"u'United States Oil & Gas Association'\", \"u'Veterans of Foreign Wars'\"]\n"
     ]
    }
   ],
   "source": [
    "print lobby_list"
   ]
  },
  {
   "cell_type": "code",
   "execution_count": null,
   "metadata": {
    "collapsed": true
   },
   "outputs": [],
   "source": []
  }
 ],
 "metadata": {
  "kernelspec": {
   "display_name": "Python 2",
   "language": "python",
   "name": "python2"
  },
  "language_info": {
   "codemirror_mode": {
    "name": "ipython",
    "version": 2
   },
   "file_extension": ".py",
   "mimetype": "text/x-python",
   "name": "python",
   "nbconvert_exporter": "python",
   "pygments_lexer": "ipython2",
   "version": "2.7.9"
  }
 },
 "nbformat": 4,
 "nbformat_minor": 0
}
