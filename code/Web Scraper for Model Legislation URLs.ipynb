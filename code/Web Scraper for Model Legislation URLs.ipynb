{
 "cells": [
  {
   "cell_type": "markdown",
   "metadata": {},
   "source": [
    "Based on list of model legislation URLs, scrape bill text from website and compile into single file.\n",
    "\n",
    "Takes URL, returns text of bill.\n",
    "\n",
    "By Emily Webber\n",
    "\n",
    "June 8, 2015"
   ]
  },
  {
   "cell_type": "code",
   "execution_count": 54,
   "metadata": {
    "collapsed": false
   },
   "outputs": [],
   "source": [
    "import requests\n",
    "from bs4 import BeautifulSoup"
   ]
  },
  {
   "cell_type": "code",
   "execution_count": 55,
   "metadata": {
    "collapsed": false
   },
   "outputs": [],
   "source": [
    "url = 'http://publicpolicyalliance.org/legislation/model-alac-bill/'"
   ]
  },
  {
   "cell_type": "code",
   "execution_count": 56,
   "metadata": {
    "collapsed": false
   },
   "outputs": [],
   "source": [
    "r = requests.get(url)"
   ]
  },
  {
   "cell_type": "code",
   "execution_count": 81,
   "metadata": {
    "collapsed": false,
    "scrolled": false
   },
   "outputs": [],
   "source": [
    "soup = BeautifulSoup(r.content)"
   ]
  },
  {
   "cell_type": "code",
   "execution_count": 97,
   "metadata": {
    "collapsed": false
   },
   "outputs": [],
   "source": [
    "g_data = soup.find_all(\"div\", {\"entry_content\"})"
   ]
  },
  {
   "cell_type": "code",
   "execution_count": 105,
   "metadata": {
    "collapsed": false
   },
   "outputs": [],
   "source": [
    "# Returns text from paragraphs within specified div"
   ]
  },
  {
   "cell_type": "code",
   "execution_count": 107,
   "metadata": {
    "collapsed": false
   },
   "outputs": [
    {
     "ename": "SyntaxError",
     "evalue": "invalid syntax (<ipython-input-107-486a86dea9ea>, line 1)",
     "output_type": "error",
     "traceback": [
      "\u001b[0;36m  File \u001b[0;32m\"<ipython-input-107-486a86dea9ea>\"\u001b[0;36m, line \u001b[0;32m1\u001b[0m\n\u001b[0;31m    urls_list=[http://publicpolicyalliance.org/legislation/model-alac-bill/, http://www.svia.org/Relations/Legislation.aspx,\u001b[0m\n\u001b[0m                   ^\u001b[0m\n\u001b[0;31mSyntaxError\u001b[0m\u001b[0;31m:\u001b[0m invalid syntax\n"
     ]
    }
   ],
   "source": [
    "urls_list=[http://publicpolicyalliance.org/legislation/model-alac-bill/, http://www.svia.org/Relations/Legislation.aspx,\n",
    ", http://www.mpp.org/legislation/model-medical-marijuana-bill.html?referrer=, https://www.google.com/\n",
    ", http://www.bornfreeusa.org/downloads/pdf/Model_State_Legislation_Pets_Shops.pdf\n",
    ", http://www.bornfreeusa.org/downloads/pdf/Model_City_Ordinance_Pet_Shops.pdf\n",
    ", http://www.bornfreeusa.org/downloads/pdf/Model_City_Ordinance_Swap_Meets.pdf\n",
    ", http://www.bornfreeusa.org/downloads/pdf/Model_Unweaned_Bird_Legislation.pdf\n",
    "w.bornfreeusa.org/downloads/pdf/Model_State_Legislation_Private_Possession.pdf\n",
    ", http://www.bornfreeusa.org/downloads/pdf/Model_Unweaned_Bird_Legislation.pdf\n",
    ", http://www.bornfreeusa.org/downloads/pdf/Model_State_Legislation_Traveling_Circus.pdf\n",
    ", http://www.bornfreeusa.org/downloads/pdf/Model_City_Legislation_Traveling_Circus.pdf\n",
    ", http://www.bornfreeusa.org/downloads/pdf/Model_State_Legislation_for_Display_of_Exotics.pdf\n",
    ", http://www.bornfreeusa.org/downloads/pdf/Model_City_Legislation_for_Display_of_Exotics.\n",
    ", http://www.bornfreeusa.org/downloads/pdf/Model_City_Ordinance_for_trapping.pdf\n",
    ", http://www.bornfreeusa.org/downloads/pdf/Model_Wildlife_Feeding_Legislation.pdf\n",
    ", http://images2.americanprogress.org/campus/web/ALEC_voter_ID_model_legislation.pdf\n",
    ", http://www.publiccharters.org/wp-content/uploads/2014/01/ModelLaw_P7-wCVR_20110402T222341.pdf\n",
    ", http://apps.americanbar.org/tax/groups/salt/ABA1_OFFICIAL_MODEL_ACT_REPORT_AS_ADOPTED_8-7-06.pdf\n",
    ", http://www.justice.gov/olp/model-state-provisions-pimping-pandering-and-prostitution\n",
    ", http://www.innocenceproject.org/free-innocent/improve-the-law/PreservationofBiologicalEvidencePrescriptiveModelBill2015.pdf\n",
    ", http://www.innocenceproject.org/free-innocent/improve-the-law/PreservationofBiologicalEvidenceTaskForceKeyedtoNISTModelBillRB.pdf\n",
    ", http://www.innocenceproject.org/free-innocent/improve-the-law/EWIDPrescriptiveModelBill2015.pdf\n",
    ", http://www.innocenceproject.org/free-innocent/improve-the-law/EWIDStandardTaskForceModelBill2015.pdf\n",
    ", http://www.innocenceproject.org/free-innocent/improve-the-law/RecordingofCustodialInterrogationsModelBill2015.pdf\n",
    ", http://www.innocenceproject.org/free-innocent/improve-the-law/CompensationModelBill2015.pdf\n",
    ", http://www.innocenceproject.org/free-innocent/improve-the-law/JailhouseInformantModelBill2015.pdf\n",
    ", http://www.innocenceproject.org/free-innocent/improve-the-law/AccesstoPostConvictionDNATestingModelBill2015.pdf\n",
    ", http://www.goodjobsfirst.org/sites/default/files/docs/pdf/GJF_model_disclosure.pdf\n",
    ", http://www.goodjobsfirst.org/sites/default/files/docs/pdf/GJF_model_clawbacks.pdf\n",
    ", http://www.goodjobsfirst.org/sites/default/files/docs/pdf/GJF_model_jobstandards.pdf\n",
    ", http://www.goodjobsfirst.org/sites/default/files/docs/pdf/GJF_model_UEDB.pdf\n",
    ", http://www.goodjobsfirst.org/sites/default/files/docs/pdf/GJF_model_complete.pdf\n",
    ", http://www.pcia.com/images/Advocacy_Docs/PCIA_Model_State_Siting_Legislation_2012.pdf\n",
    ", http://nepc.colorado.edu/files/NEPC-VirtSchool-2-LB-Bathon.pdf\n",
    ", http://www.shallnot.org/legislation\n",
    ", http://www.khi.org/assets/uploads/news/13359/goldwater_institute_right_to_try_model_legislation.pdf\n",
    ", http://www.icmec.org/en_X1/pdf/Child_Pornography_Model_Law_English_7th_Edition_2012.pdf\n",
    ", http://www.federationforchildren.org/wp-content/uploads/2013/12/Parental-Choice-Scholarship-Program-Act-MTE.pdf\n",
    ", http://www.federationforchildren.org/wp-content/uploads/2013/12/Parental-Choice-Scholarship-Program-Act-UE.pdf\n",
    ", http://www.federationforchildren.org/wp-content/uploads/2013/12/Parental-Choice-Scholarship-Program-Act-UEMTSA.pdf\n",
    ", http://www.federationforchildren.org/wp-content/uploads/2013/12/Great-Schools-Tax-Credit-Program-Act.pdf\n",
    ", http://www.federationforchildren.org/wp-content/uploads/2013/12/Education-Savings-Account-Act.pdf\n",
    ", http://www.federationforchildren.org/wp-content/uploads/2013/12/Military-Family-Scholarship-Program-Act.pdf\n",
    ", http://www.federationforchildren.org/wp-content/uploads/2013/12/Foster-Child-Scholarship-Program-Act.pdf\n",
    ", http://greatlakescenter.org/docs/Policy_Briefs/Research-Based-Options/02-Trujillo_Turnarounds-LB.pdf\n",
    ", http://www.academicfreedompetition.com/freedom.php\n",
    ", http://www.dpcare.org/#!dpcc-model-legislation/c14ob\n",
    ", http://toxicsinpackaging.org/model-legislation/model/\n",
    ", http://www.adl.org/assets/pdf/combating-hate/Hate-Crimes-Law.pdf\n",
    ", http://www.davidyerushalmilaw.com/CLE-Course-on-Draft-Uniform-Act--American-Laws-for-American-Courts-b25-p0.html%22\n",
    ", https://www.aclu.org/model-act-regulating-use-wearable-body-cameras-law-enforcement\n",
    ", http://www.ncsl.org/documents/standcomm/sccomfc/point_of_sale_model_bill2010.pdf\n",
    ", http://object.cato.org/pdfs/model-tax-credit-legislation-schaeffer-cato.pdf\n",
    ", http://inspectorsgeneral.org/files/2011/01/IG-Model-Legislation.pdf\n",
    ", http://www.inacol.org/wp-content/uploads/2015/02/Principles-For-Model-Legislation-2012.pdf\n",
    ", http://www.emacweb.org/index.php/mutualaidresources/intrastate-mutual-aid/modellegislation\n",
    ", http://aldf.org/downloads/ALDF_Model_Laws_v15_0.pdf\n",
    ", http://www.nationalpartnership.org/research-library/work-family/psd/model-paid-sick-and-safe-days-legislation.pdf\n",
    ", http://www.nationalpartnership.org/research-library/work-family/psd/section-by-section-analysis-model-legislation.pdf\n",
    ", http://www.nationalpartnership.org/research-library/work-family/psd/fact-sheet-model-legislation-main-points.pdf\n",
    ", https://www.aapa.org/WorkArea/DownloadAsset.aspx?id=548\n",
    ", http://www.indianasenaterepublicans.com/clientuploads/directory/publications/Sen%20David%20Long%20Article%20V%20Packet-Online.pdf\n",
    ", https://www.mackinac.org/21341, http://www.naso.org/Resources/Legislation/ModelLegislation.aspx\n",
    ", http://www.federationforchildren.org/wp-content/uploads/2013/12/Great-Schools-Tax-Credit-Program-Act.pdf?e3490a\n",
    ", http://www.federationforchildren.org/wp-content/uploads/2013/12/Parental-Choice-Scholarship-Program-Act-UEMTSA.pdf?e3490a\n",
    ", http://www.federationforchildren.org/wp-content/uploads/2013/12/Parental-Choice-Scholarship-Program-Act-UE.pdf?e3490a\n",
    ", http://www.federationforchildren.org/wp-content/uploads/2013/12/Parental-Choice-Scholarship-Program-Act-MTE.pdf?e3490a\n",
    ", http://www.federationforchildren.org/wp-content/uploads/2013/12/Great-Schools-Tax-Credit-Program-Act.pdf?e3490a\n",
    ", http://autisticadvocacy.org/wp-content/uploads/2014/03/OrganTransplantationModelLegislation.pdf]\n"
   ]
  },
  {
   "cell_type": "code",
   "execution_count": null,
   "metadata": {
    "collapsed": true
   },
   "outputs": [],
   "source": []
  },
  {
   "cell_type": "code",
   "execution_count": null,
   "metadata": {
    "collapsed": true
   },
   "outputs": [],
   "source": []
  }
 ],
 "metadata": {
  "kernelspec": {
   "display_name": "Python 2",
   "language": "python",
   "name": "python2"
  },
  "language_info": {
   "codemirror_mode": {
    "name": "ipython",
    "version": 2
   },
   "file_extension": ".py",
   "mimetype": "text/x-python",
   "name": "python",
   "nbconvert_exporter": "python",
   "pygments_lexer": "ipython2",
   "version": "2.7.9"
  }
 },
 "nbformat": 4,
 "nbformat_minor": 0
}
