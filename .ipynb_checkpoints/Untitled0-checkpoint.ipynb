{
 "metadata": {
  "name": "",
  "signature": "sha256:4e0ad3f2c0aad6e8e26b75ec1893dc05ab0f52c3ba8c96ca1a23441bb646a63a"
 },
 "nbformat": 3,
 "nbformat_minor": 0,
 "worksheets": [
  {
   "cells": [
    {
     "cell_type": "code",
     "collapsed": false,
     "input": [
      "from sunlight import openstates\n",
      "import psycopg2\n",
      "import os\n",
      "import logging\n",
      "import re\n",
      "import csv\n",
      "import time"
     ],
     "language": "python",
     "metadata": {},
     "outputs": [],
     "prompt_number": 1
    },
    {
     "cell_type": "code",
     "collapsed": false,
     "input": [
      "# GRAB DATABASE INFO FROM default_profile\n",
      "db_info = []\n",
      "with open('default_profile', 'rb') as db_file:\n",
      "    reader = csv.reader(db_file, delimiter='=', quotechar='\"')\n",
      "    for row in reader:\n",
      "        db_info.append(row[1])"
     ],
     "language": "python",
     "metadata": {},
     "outputs": [],
     "prompt_number": 2
    },
    {
     "cell_type": "code",
     "collapsed": false,
     "input": [
      "# CONNECT TO DATABASE\n",
      "conn = psycopg2.connect(host = db_info[0], database = db_info[1], user = db_info[2], password = db_info[3]) \n",
      "cur = conn.cursor()"
     ],
     "language": "python",
     "metadata": {},
     "outputs": [],
     "prompt_number": 3
    },
    {
     "cell_type": "code",
     "collapsed": false,
     "input": [
      "# GRAB STATES TRACKED BY SUNLIGHT\n",
      "cur.execute(\"SELECT UPPER(abbreviation) FROM input.state_metadata WHERE bills_identified IS NULL ORDER BY abbreviation;\")\n",
      "state_abbrev = cur.fetchall()"
     ],
     "language": "python",
     "metadata": {},
     "outputs": [],
     "prompt_number": 4
    },
    {
     "cell_type": "code",
     "collapsed": false,
     "input": [
      "# PARSE BILL METADATA FOR DATABASE INSERTION\n",
      "def parse_bill_metadata(bill_metadata):\n",
      "    bill_id = bill_metadata['bill_id']\n",
      "    chamber = bill_metadata['chamber']\n",
      "    created_at = bill_metadata['created_at']\n",
      "    id_ = bill_metadata['id']\n",
      "    session = bill_metadata['session']\n",
      "    state = bill_metadata['state']\n",
      "    if 'subjects' in bill_metadata:\n",
      "        if bill_metadata['subjects']:\n",
      "            subjects_temp = str(bill_metadata['subjects']).strip('[]')\n",
      "            subjects = re.sub(\"u'\", \"'\", subjects_temp)\n",
      "        else:\n",
      "            subjects = None\n",
      "    else:\n",
      "        subjects = None\n",
      "    title = bill_metadata['title']\n",
      "    type_temp = str(bill_metadata['type']).strip('[]')\n",
      "    type_ = re.sub(\"u?'\", \"\", type_temp)\n",
      "    updated_at = bill_metadata['updated_at']\n",
      "\n",
      "    return((bill_id, chamber, created_at, id_, session, state, subjects, title, type_, updated_at))"
     ],
     "language": "python",
     "metadata": {},
     "outputs": [],
     "prompt_number": 7
    },
    {
     "cell_type": "code",
     "collapsed": false,
     "input": [
      "# GRAB STATE METADATA FROM SUNLIGHT AND PUSH TO DATABASE\n",
      "for state_meta in state_abbrev[0]: \n",
      "    print state_meta\n",
      "    \n",
      "    bills = openstates.bills(state=state_meta,  window='all')\n",
      "    temp_bill_metadata = []        \n",
      "    for bill in bills:\n",
      "        parsed_data = parse_bill_metadata(bill)\n",
      "        temp_bill_metadata.append(parsed_data)\n",
      "        if len(temp_bill_metadata) == 1000 or parsed_data[3] == bills[len(bills)-1]['id']:\n",
      "            args_str = ','.join(cur.mogrify(\"(%s,%s,%s,%s,%s,%s,%s,%s,%s,%s)\", x) for x in temp_bill_metadata)\n",
      "            cur.execute(\"INSERT INTO input.bill_metadata VALUES \" + args_str) \n",
      "            conn.commit()\n",
      "            temp_bill_metadata = []\n",
      "    \n",
      "    update_statement = \"UPDATE input.state_metadata SET bills_identified = TRUE WHERE abbreviation = '%s';\" % (state_meta)\n",
      "    cur.execute(update_statement)\n",
      "    conn.commit()\n"
     ],
     "language": "python",
     "metadata": {},
     "outputs": []
    },
    {
     "cell_type": "code",
     "collapsed": false,
     "input": [],
     "language": "python",
     "metadata": {},
     "outputs": [],
     "prompt_number": 34
    }
   ],
   "metadata": {}
  }
 ]
}