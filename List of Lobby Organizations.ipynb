{
 "cells": [
  {
   "cell_type": "code",
   "execution_count": 5,
   "metadata": {
    "collapsed": true
   },
   "outputs": [],
   "source": [
    "import xlrd"
   ]
  },
  {
   "cell_type": "code",
   "execution_count": 10,
   "metadata": {
    "collapsed": false
   },
   "outputs": [],
   "source": [
    "workbook = xlrd.open_workbook('LobbyList.xls')\n",
    "sheet = workbook.sheet_by_index(0)\n",
    "this_row = 0\n",
    "\n",
    "lobby_list = []\n",
    "for element in xrange(73):\n",
    "    lobby_list.append(sheet.cell(this_row, 0))\n",
    "    this_row += 1"
   ]
  },
  {
   "cell_type": "code",
   "execution_count": 11,
   "metadata": {
    "collapsed": false
   },
   "outputs": [
    {
     "name": "stdout",
     "output_type": "stream",
     "text": [
      "[text:u'60 Plus Association', text:u'AARP', text:u'AeA', text:u'Aircraft Kit Industry Association', text:u'Alexander Strategy Group', text:u'Association of Mature American Citizens', text:u'America\\u2019s Infrastructure Alliance', text:u'American Automobile Association', text:u'American Council of Life Insurers', text:u'American Highway Users Alliance', text:u'American Israel Public Affairs Committee', text:u'American Motor League', text:u'AMVETS', text:u'Assembly of the Friends of Azerbaijan', text:u'Association for Competitive Technology', text:u'Biotechnology Industry Organization', text:u'Business Roundtable', text:u'California Newspaper Publishers Association', text:u'Center for Arizona Policy', text:u'Center for Regulatory Effectiveness', text:u\"Children's Healthcare is a Legal Duty\", text:u'CitizenGo', text:u'Clearing House Association', text:u'The Clearing House Payments Company', text:u'Coalition for 21st Century Patent Reform', text:u'Coalition for Patent Fairness', text:u'Disabled American Veterans', text:u'FWD.us', text:u'GeorgiaCarry.org', text:u'Gun Owners of America', text:u'Independent Insurance Agents & Brokers of America', text:u'Information Technology Association of America', text:u'Internet Association', text:u'Irish National Caucus', text:u'K Street Project', text:u'Ladies of Liberty Alliance', text:u'Lao Veterans of America', text:u'Louisiana Association of Business and Industry', text:u'Military Officers Association of America', text:u'NARAL Pro-Choice America', text:u'National Air Transportation Association', text:u'National Association for Gun Rights', text:u'National Association of Credit Management', text:u'National Association of Police Organizations', text:u'Protect (political organization)', text:u'National Coffee Association', text:u'National Committee to Preserve Social Security and Medicare', text:u'National Federation of Independent Business', text:u'National Jewish Democratic Council', text:u'National Organization for Marriage', text:u'National Rifle Association', text:u'Newspaper Association of America', text:u'Nutritional Health Alliance', text:u'Oklahomans for Children and Families', text:u'Pennsylvania NewsMedia Association', text:u'Pharmaceutical Research and Manufacturers of America', text:u'Private Equity Growth Capital Council', text:u'Public Affairs Alliance of Iranian Americans', text:u'Reality Check (program)', text:u'Religious Action Center of Reform Judaism', text:u'Republican Jewish Coalition', text:u\"Save Ben & Jerry's\", text:u'Sentinels of the Republic', text:u'Sons of Confederate Veterans', text:u\"State motorcyclists' rights organizations\", text:u'Tavern League of Wisconsin', text:u'TechNet (lobbying organization)', text:u'Transportation for America', text:u'U.S. Track & Field and Cross Country Coaches Association', text:u'United Daughters of the Confederacy', text:u'United States Business and Industry Council', text:u'United States Oil & Gas Association', text:u'Veterans of Foreign Wars']\n"
     ]
    }
   ],
   "source": [
    "print lobby_list"
   ]
  },
  {
   "cell_type": "code",
   "execution_count": null,
   "metadata": {
    "collapsed": true
   },
   "outputs": [],
   "source": []
  }
 ],
 "metadata": {
  "kernelspec": {
   "display_name": "Python 2",
   "language": "python",
   "name": "python2"
  },
  "language_info": {
   "codemirror_mode": {
    "name": "ipython",
    "version": 2
   },
   "file_extension": ".py",
   "mimetype": "text/x-python",
   "name": "python",
   "nbconvert_exporter": "python",
   "pygments_lexer": "ipython2",
   "version": "2.7.9"
  }
 },
 "nbformat": 4,
 "nbformat_minor": 0
}
