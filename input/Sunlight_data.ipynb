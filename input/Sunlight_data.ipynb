{
 "metadata": {
  "name": "",
  "signature": "sha256:b3933d07b83ffc9475ea165a3e4eb086e490ae0ab724e38d23a33d33e53cda2d"
 },
 "nbformat": 3,
 "nbformat_minor": 0,
 "worksheets": [
  {
   "cells": [
    {
     "cell_type": "code",
     "collapsed": false,
     "input": [
      "from sunlight import openstates\n",
      "import psycopg2\n",
      "import re\n",
      "import csv\n",
      "import sys"
     ],
     "language": "python",
     "metadata": {},
     "outputs": [],
     "prompt_number": 19
    },
    {
     "cell_type": "code",
     "collapsed": false,
     "input": [
      "db_info = []\n",
      "with open('../default_profile', 'rb') as db_file:\n",
      "    reader = csv.reader(db_file, delimiter='=', quotechar='\"')\n",
      "    for row in reader:\n",
      "        db_info.append(row[1])"
     ],
     "language": "python",
     "metadata": {},
     "outputs": [],
     "prompt_number": 5
    },
    {
     "cell_type": "code",
     "collapsed": false,
     "input": [
      "conn = psycopg2.connect(host = db_info[0], database = db_info[1], user = db_info[2], password = db_info[3]) \n",
      "cur = conn.cursor()"
     ],
     "language": "python",
     "metadata": {},
     "outputs": [],
     "prompt_number": 85
    },
    {
     "cell_type": "markdown",
     "metadata": {},
     "source": [
      "## Grab list of states that Sunlight tracks"
     ]
    },
    {
     "cell_type": "code",
     "collapsed": false,
     "input": [
      "#state_metadata = openstates.all_metadata()\n",
      "\n"
     ],
     "language": "python",
     "metadata": {},
     "outputs": [],
     "prompt_number": 64
    },
    {
     "cell_type": "code",
     "collapsed": false,
     "input": [
      "cur.execute('SELECT UPPER(abbreviation) FROM input.state_metadata ORDER BY abbreviation;')\n",
      "state_abbrev = cur.fetchall()"
     ],
     "language": "python",
     "metadata": {},
     "outputs": [],
     "prompt_number": 45
    },
    {
     "cell_type": "code",
     "collapsed": false,
     "input": [
      "state_abbrev = [['AK']]\n",
      "state_abbrev[0][0]"
     ],
     "language": "python",
     "metadata": {},
     "outputs": [
      {
       "metadata": {},
       "output_type": "pyout",
       "prompt_number": 60,
       "text": [
        "'AK'"
       ]
      }
     ],
     "prompt_number": 60
    },
    {
     "cell_type": "markdown",
     "metadata": {},
     "source": [
      "## List bills in state legislatures"
     ]
    },
    {
     "cell_type": "code",
     "collapsed": false,
     "input": [],
     "language": "python",
     "metadata": {},
     "outputs": [],
     "prompt_number": 96
    },
    {
     "cell_type": "code",
     "collapsed": false,
     "input": [],
     "language": "python",
     "metadata": {},
     "outputs": [],
     "prompt_number": 96
    },
    {
     "cell_type": "code",
     "collapsed": false,
     "input": [],
     "language": "python",
     "metadata": {},
     "outputs": [],
     "prompt_number": 86
    },
    {
     "cell_type": "code",
     "collapsed": false,
     "input": [],
     "language": "python",
     "metadata": {},
     "outputs": [],
     "prompt_number": 96
    },
    {
     "cell_type": "code",
     "collapsed": false,
     "input": [],
     "language": "python",
     "metadata": {},
     "outputs": [],
     "prompt_number": 28
    },
    {
     "cell_type": "code",
     "collapsed": false,
     "input": [],
     "language": "python",
     "metadata": {},
     "outputs": [],
     "prompt_number": 63
    },
    {
     "cell_type": "code",
     "collapsed": false,
     "input": [
      "        bill_id_url = re.sub(' ', '', documents['bill_id'])\n",
      "        bill_detail = openstates.bill_detail(state='NC', session='2015', bill_id=documents['bill_id'])\n",
      "        bill_versions = bill_detail['versions']\n"
     ],
     "language": "python",
     "metadata": {},
     "outputs": [
      {
       "ename": "NameError",
       "evalue": "name 'bills' is not defined",
       "output_type": "pyerr",
       "traceback": [
        "\u001b[0;31m---------------------------------------------------------------------------\u001b[0m\n\u001b[0;31mNameError\u001b[0m                                 Traceback (most recent call last)",
        "\u001b[0;32m<ipython-input-18-870e037c516f>\u001b[0m in \u001b[0;36m<module>\u001b[0;34m()\u001b[0m\n\u001b[0;32m----> 1\u001b[0;31m \u001b[0;32mfor\u001b[0m \u001b[0mdocuments\u001b[0m \u001b[0;32min\u001b[0m \u001b[0mbills\u001b[0m\u001b[0;34m:\u001b[0m\u001b[0;34m\u001b[0m\u001b[0m\n\u001b[0m\u001b[1;32m      2\u001b[0m     \u001b[0;32mprint\u001b[0m \u001b[0mdocuments\u001b[0m \u001b[0;31m#['bill_id']\u001b[0m\u001b[0;34m\u001b[0m\u001b[0m\n\u001b[1;32m      3\u001b[0m \u001b[0;31m#nc_bills[1]['bill_id']\u001b[0m\u001b[0;34m\u001b[0m\u001b[0;34m\u001b[0m\u001b[0m\n",
        "\u001b[0;31mNameError\u001b[0m: name 'bills' is not defined"
       ]
      }
     ],
     "prompt_number": 18
    },
    {
     "cell_type": "code",
     "collapsed": false,
     "input": [],
     "language": "python",
     "metadata": {},
     "outputs": [],
     "prompt_number": 96
    },
    {
     "cell_type": "code",
     "collapsed": false,
     "input": [
      "example_bill = openstates.bill_detail(state='NC', session='2015', bill_id='SB 511')"
     ],
     "language": "python",
     "metadata": {},
     "outputs": [],
     "prompt_number": 98
    },
    {
     "cell_type": "code",
     "collapsed": false,
     "input": [
      "example_bill"
     ],
     "language": "python",
     "metadata": {},
     "outputs": [
      {
       "metadata": {},
       "output_type": "pyout",
       "prompt_number": 99,
       "text": [
        "{u'action_dates': {u'first': u'2015-03-25 00:00:00',\n",
        "  u'last': u'2015-04-28 00:00:00',\n",
        "  u'passed_lower': None,\n",
        "  u'passed_upper': None,\n",
        "  u'signed': None},\n",
        " u'actions': [{u'action': u'Filed',\n",
        "   u'actor': u'upper',\n",
        "   u'date': u'2015-03-25 00:00:00',\n",
        "   u'related_entities': [],\n",
        "   u'type': [u'bill:introduced']},\n",
        "  {u'action': u'Passed 1st Reading',\n",
        "   u'actor': u'upper',\n",
        "   u'date': u'2015-03-26 00:00:00',\n",
        "   u'related_entities': [],\n",
        "   u'type': [u'bill:reading:1']},\n",
        "  {u'action': u'Ref To Com On Rules and Operations of the Senate',\n",
        "   u'actor': u'upper',\n",
        "   u'date': u'2015-03-26 00:00:00',\n",
        "   u'related_entities': [],\n",
        "   u'type': [u'committee:referred']},\n",
        "  {u'action': u'Withdrawn From Com',\n",
        "   u'actor': u'upper',\n",
        "   u'date': u'2015-03-30 00:00:00',\n",
        "   u'related_entities': [],\n",
        "   u'type': [u'other']},\n",
        "  {u'action': u'Re-ref to Judiciary I. If fav, re-ref to Finance',\n",
        "   u'actor': u'upper',\n",
        "   u'date': u'2015-03-30 00:00:00',\n",
        "   u'related_entities': [],\n",
        "   u'type': [u'committee:referred']},\n",
        "  {u'action': u'Reptd Fav Com Substitute',\n",
        "   u'actor': u'upper',\n",
        "   u'date': u'2015-04-28 00:00:00',\n",
        "   u'related_entities': [],\n",
        "   u'type': [u'committee:passed:favorable']},\n",
        "  {u'action': u'Com Substitute Adopted',\n",
        "   u'actor': u'upper',\n",
        "   u'date': u'2015-04-28 00:00:00',\n",
        "   u'related_entities': [],\n",
        "   u'type': [u'other']},\n",
        "  {u'action': u'Re-ref Com On Finance',\n",
        "   u'actor': u'upper',\n",
        "   u'date': u'2015-04-28 00:00:00',\n",
        "   u'related_entities': [],\n",
        "   u'type': [u'committee:referred']}],\n",
        " u'all_ids': [u'NCB00008717'],\n",
        " u'alternate_titles': [],\n",
        " u'bill_id': u'SB 511',\n",
        " u'chamber': u'upper',\n",
        " u'companions': [],\n",
        " u'created_at': u'2015-03-25 23:37:35',\n",
        " u'documents': [],\n",
        " u'id': u'NCB00008717',\n",
        " u'scraped_subjects': [u'COMMERCE',\n",
        "  u'CONSUMER CREDIT',\n",
        "  u'CONSUMER PROTECTION',\n",
        "  u'DEBTOR & CREDITOR',\n",
        "  u'FINANCIAL SERVICES',\n",
        "  u'PUBLIC'],\n",
        " u'session': u'2015',\n",
        " u'sources': [{u'url': u'http://www.ncga.state.nc.us/gascripts/BillLookUp/BillLookUp.pl?Session=2015&BillID=S511'}],\n",
        " u'sponsors': [{u'chamber': u'upper',\n",
        "   u'leg_id': u'NCL000324',\n",
        "   u'name': u'Michael V. Lee',\n",
        "   u'type': u'primary'},\n",
        "  {u'chamber': u'upper',\n",
        "   u'leg_id': u'NCL000013',\n",
        "   u'name': u'Harry Brown',\n",
        "   u'type': u'primary'}],\n",
        " u'state': u'nc',\n",
        " u'subjects': [u'Commerce', u'Public Services', u'Business and Consumers'],\n",
        " u'title': u'Proof Required for Debt/Fees.',\n",
        " u'type': [u'bill'],\n",
        " u'updated_at': u'2015-04-29 00:05:06',\n",
        " u'versions': [{u'doc_id': u'NCD00028209',\n",
        "   u'mimetype': u'text/html',\n",
        "   u'name': u'Filed',\n",
        "   u'url': u'http://www.ncga.state.nc.us/Sessions/2015/Bills/Senate/HTML/S511v0.html'},\n",
        "  {u'doc_id': u'NCD00028456',\n",
        "   u'mimetype': u'text/html',\n",
        "   u'name': u'Edition 1',\n",
        "   u'url': u'http://www.ncga.state.nc.us/Sessions/2015/Bills/Senate/HTML/S511v1.html'},\n",
        "  {u'doc_id': u'NCD00030360',\n",
        "   u'mimetype': u'text/html',\n",
        "   u'name': u'Edition 2',\n",
        "   u'url': u'http://www.ncga.state.nc.us/Sessions/2015/Bills/Senate/HTML/S511v2.html'}],\n",
        " u'votes': []}"
       ]
      }
     ],
     "prompt_number": 99
    },
    {
     "cell_type": "code",
     "collapsed": false,
     "input": [
      "example_bill['versions']"
     ],
     "language": "python",
     "metadata": {},
     "outputs": [
      {
       "metadata": {},
       "output_type": "pyout",
       "prompt_number": 14,
       "text": [
        "[{u'doc_id': u'NCD00026964',\n",
        "  u'mimetype': u'text/html',\n",
        "  u'name': u'Filed',\n",
        "  u'url': u'http://www.ncga.state.nc.us/Sessions/2015/Bills/Senate/HTML/S90v0.html'},\n",
        " {u'doc_id': u'NCD00026995',\n",
        "  u'mimetype': u'text/html',\n",
        "  u'name': u'Edition 1',\n",
        "  u'url': u'http://www.ncga.state.nc.us/Sessions/2015/Bills/Senate/HTML/S90v1.html'},\n",
        " {u'doc_id': u'NCD00030503',\n",
        "  u'mimetype': u'text/html',\n",
        "  u'name': u'Edition 2',\n",
        "  u'url': u'http://www.ncga.state.nc.us/Sessions/2015/Bills/Senate/HTML/S90v2.html'}]"
       ]
      }
     ],
     "prompt_number": 14
    }
   ],
   "metadata": {}
  }
 ]
}