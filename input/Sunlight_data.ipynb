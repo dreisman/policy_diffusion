{
 "metadata": {
  "name": "",
  "signature": "sha256:4ed9f6f501bbfaf23431868fa96253483b4949ba04374648096d11646f81c482"
 },
 "nbformat": 3,
 "nbformat_minor": 0,
 "worksheets": [
  {
   "cells": [
    {
     "cell_type": "code",
     "collapsed": false,
     "input": [
      "from sunlight import openstates\n",
      "import psycopg2\n",
      "import re\n",
      "import csv\n",
      "import sys"
     ],
     "language": "python",
     "metadata": {},
     "outputs": [],
     "prompt_number": 19
    },
    {
     "cell_type": "code",
     "collapsed": false,
     "input": [
      "db_info = []\n",
      "with open('../default_profile', 'rb') as db_file:\n",
      "    reader = csv.reader(db_file, delimiter='=', quotechar='\"')\n",
      "    for row in reader:\n",
      "        db_info.append(row[1])"
     ],
     "language": "python",
     "metadata": {},
     "outputs": [],
     "prompt_number": 5
    },
    {
     "cell_type": "code",
     "collapsed": false,
     "input": [
      "conn = psycopg2.connect(host = db_info[0], database = db_info[1], user = db_info[2], password = db_info[3]) \n",
      "cur = conn.cursor()"
     ],
     "language": "python",
     "metadata": {},
     "outputs": [],
     "prompt_number": 6
    },
    {
     "cell_type": "markdown",
     "metadata": {},
     "source": [
      "## Grab list of states that Sunlight tracks"
     ]
    },
    {
     "cell_type": "code",
     "collapsed": false,
     "input": [
      "#state_metadata = openstates.all_metadata()\n",
      "\n",
      "a = csv.writer(sys.stdout)\n",
      "for state in state_metadata:\n",
      "    abbreviation = state['abbreviation']\n",
      "    if 'lower' in state['chambers']:\n",
      "        lower_chamber_name = state['chambers']['lower']['name']\n",
      "        lower_chamber_title = state['chambers']['lower']['title']\n",
      "    else:\n",
      "        lower_chamber_name = None\n",
      "        lower_chamber_title = None\n",
      "    upper_chamber_name = state['chambers']['upper']['name']\n",
      "    upper_chamber_title = state['chambers']['upper']['title']\n",
      "    feature_flags = str(state['feature_flags']).strip('[]')\n",
      "    a.writerow((abbreviation, lower_chamber_name, lower_chamber_title, upper_chamber_name, upper_chamber_title, feature_flags))"
     ],
     "language": "python",
     "metadata": {},
     "outputs": [
      {
       "output_type": "stream",
       "stream": "stdout",
       "text": [
        "al,House,Representative,Senate,Senator,\"u'subjects', u'influenceexplorer'\"\r\n",
        "ak,House,Representative,Senate,Senator,\"u'subjects', u'influenceexplorer'\"\r\n",
        "az,House,Representative,Senate,Senator,\"u'events', u'influenceexplorer'\"\r\n",
        "ar,House,Representative,Senate,Senator,\"u'influenceexplorer', u'events'\"\r\n",
        "ca,Assembly,Assemblymember,Senate,Senator,\"u'subjects', u'influenceexplorer'\"\r\n",
        "co,House,Representative,Senate,Senator,u'influenceexplorer'\r\n",
        "ct,House,Representative,Senate,Senator,\"u'subjects', u'events', u'influenceexplorer'\"\r\n",
        "de,House,Representative,Senate,Senator,\"u'events', u'influenceexplorer'\"\r\n",
        "dc,,,Council,Councilmember,\r\n",
        "fl,House,Representative,Senate,Senator,u'influenceexplorer'\r\n",
        "ga,House,Representative,Senate,Senator,u'influenceexplorer'\r\n",
        "hi,House,Representative,Senate,Senator,\"u'subjects', u'events', u'capitol_maps', u'influenceexplorer'\"\r\n",
        "id,House,Representative,Senate,Senator,u'influenceexplorer'\r\n",
        "il,House,Representative,Senate,Senator,\"u'events', u'influenceexplorer'\"\r\n",
        "in,House,Representative,Senate,Senator,\"u'subjects', u'capitol_maps', u'influenceexplorer'\"\r\n",
        "ia,House,Representative,Senate,Senator,\"u'events', u'influenceexplorer'\"\r\n",
        "ks,House,Representative,Senate,Senator,u'influenceexplorer'\r\n",
        "ky,House,Representative,Senate,Senator,\"u'subjects', u'events', u'influenceexplorer'\"\r\n",
        "la,House,Representative,Senate,Senator,\"u'subjects', u'influenceexplorer', u'events'\"\r\n",
        "me,House,Representative,Senate,Senator,\"u'subjects', u'influenceexplorer'\"\r\n",
        "md,House,Delegate,Senate,Senator,\"u'subjects', u'events', u'influenceexplorer'\"\r\n",
        "ma,House,Representative,Senate,Senator,\"u'events', u'influenceexplorer'\"\r\n",
        "mi,House,Representative,Senate,Senator,\"u'subjects', u'events', u'influenceexplorer'\"\r\n",
        "mn,House,Representative,Senate,Senator,\"u'subjects', u'events', u'influenceexplorer'\"\r\n",
        "ms,House,Representative,Senate,Senator,\"u'subjects', u'influenceexplorer'\"\r\n",
        "mo,House,Representative,Senate,Senator,\"u'subjects', u'influenceexplorer'\"\r\n",
        "mt,House,Representative,Senate,Senator,u'influenceexplorer'\r\n",
        "ne,,,Unicameral,Senator,u'influenceexplorer'\r\n",
        "nv,Assembly,Assembly Member,Senate,Senator,\"u'subjects', u'capitol_maps', u'influenceexplorer'\"\r\n",
        "nh,House,Representative,Senate,Senator,u'influenceexplorer'\r\n",
        "nj,Assembly,Assembly Member,Senate,Senator,\"u'subjects', u'events', u'influenceexplorer'\"\r\n",
        "nm,House,Representative,Senate,Senator,\"u'subjects', u'influenceexplorer'\"\r\n",
        "ny,Assembly,Assembly Member,Senate,Senator,\"u'subjects', u'events', u'influenceexplorer'\"\r\n",
        "nc,House,Representative,Senate,Senator,\"u'subjects', u'influenceexplorer'\"\r\n",
        "nd,House,Representative,Senate,Senator,u'influenceexplorer'\r\n",
        "oh,House,Representative,Senate,Senator,\"u'influenceexplorer', u'events'\"\r\n",
        "ok,House,Representative,Senate,Senator,\"u'subjects', u'influenceexplorer'\"\r\n",
        "or,House,Representative,Senate,Senator,u'influenceexplorer'\r\n",
        "pa,House,Representative,Senate,Senator,\"u'events', u'influenceexplorer'\"\r\n",
        "pr,House,Representative,Senate,Senator,\r\n",
        "ri,House,Representative,Senate,Senator,\"u'subjects', u'events', u'influenceexplorer'\"\r\n",
        "sc,House,Representative,Senate,Senator,u'influenceexplorer'\r\n",
        "sd,House,Representative,Senate,Senator,\"u'subjects', u'influenceexplorer'\"\r\n",
        "tn,House,Representative,Senate,Senator,\"u'events', u'influenceexplorer'\"\r\n",
        "tx,House,Representative,Senate,Senator,\"u'events', u'subjects', u'capitol_maps', u'influenceexplorer'\"\r\n",
        "ut,House,Representative,Senate,Senator,\"u'events', u'subjects', u'influenceexplorer'\"\r\n",
        "vt,House,Representative,Senate,Senator,u'influenceexplorer'\r\n",
        "va,House,Delegate,Senate,Senator,\"u'subjects', u'influenceexplorer'\"\r\n",
        "wa,House,Representative,Senate,Senator,\"u'events', u'subjects', u'capitol_maps', u'influenceexplorer'\"\r\n",
        "wv,House,Delegate,Senate,Senator,\"u'subjects', u'influenceexplorer'\"\r\n",
        "wi,Assembly,Representative,Senate,Senator,\"u'subjects', u'events', u'influenceexplorer'\"\r\n",
        "wy,House,Representative,Senate,Senator,\"u'influenceexplorer', u'events'\"\r\n"
       ]
      }
     ],
     "prompt_number": 26
    },
    {
     "cell_type": "code",
     "collapsed": false,
     "input": [
      "a = csv.writer(sys.stdout)\n",
      "a.writerows(data)"
     ],
     "language": "python",
     "metadata": {},
     "outputs": [
      {
       "ename": "AttributeError",
       "evalue": "'list' object has no attribute 'decode'",
       "output_type": "pyerr",
       "traceback": [
        "\u001b[0;31m---------------------------------------------------------------------------\u001b[0m\n\u001b[0;31mAttributeError\u001b[0m                            Traceback (most recent call last)",
        "\u001b[0;32m<ipython-input-21-1819e2955a47>\u001b[0m in \u001b[0;36m<module>\u001b[0;34m()\u001b[0m\n\u001b[0;32m----> 1\u001b[0;31m \u001b[0msys\u001b[0m\u001b[0;34m.\u001b[0m\u001b[0mstdout\u001b[0m\u001b[0;34m.\u001b[0m\u001b[0mwrite\u001b[0m\u001b[0;34m(\u001b[0m\u001b[0mcsv_ready_state_metadata\u001b[0m\u001b[0;34m)\u001b[0m\u001b[0;34m\u001b[0m\u001b[0m\n\u001b[0m",
        "\u001b[0;32m/Users/jtwalsh/anaconda/lib/python2.7/site-packages/IPython/kernel/zmq/iostream.pyc\u001b[0m in \u001b[0;36mwrite\u001b[0;34m(self, string)\u001b[0m\n\u001b[1;32m    200\u001b[0m             \u001b[0;31m# Make sure that we're handling unicode\u001b[0m\u001b[0;34m\u001b[0m\u001b[0;34m\u001b[0m\u001b[0m\n\u001b[1;32m    201\u001b[0m             \u001b[0;32mif\u001b[0m \u001b[0;32mnot\u001b[0m \u001b[0misinstance\u001b[0m\u001b[0;34m(\u001b[0m\u001b[0mstring\u001b[0m\u001b[0;34m,\u001b[0m \u001b[0municode_type\u001b[0m\u001b[0;34m)\u001b[0m\u001b[0;34m:\u001b[0m\u001b[0;34m\u001b[0m\u001b[0m\n\u001b[0;32m--> 202\u001b[0;31m                 \u001b[0mstring\u001b[0m \u001b[0;34m=\u001b[0m \u001b[0mstring\u001b[0m\u001b[0;34m.\u001b[0m\u001b[0mdecode\u001b[0m\u001b[0;34m(\u001b[0m\u001b[0mself\u001b[0m\u001b[0;34m.\u001b[0m\u001b[0mencoding\u001b[0m\u001b[0;34m,\u001b[0m \u001b[0;34m'replace'\u001b[0m\u001b[0;34m)\u001b[0m\u001b[0;34m\u001b[0m\u001b[0m\n\u001b[0m\u001b[1;32m    203\u001b[0m \u001b[0;34m\u001b[0m\u001b[0m\n\u001b[1;32m    204\u001b[0m             \u001b[0mis_child\u001b[0m \u001b[0;34m=\u001b[0m \u001b[0;34m(\u001b[0m\u001b[0mself\u001b[0m\u001b[0;34m.\u001b[0m\u001b[0m_check_mp_mode\u001b[0m\u001b[0;34m(\u001b[0m\u001b[0;34m)\u001b[0m \u001b[0;34m==\u001b[0m \u001b[0mCHILD\u001b[0m\u001b[0;34m)\u001b[0m\u001b[0;34m\u001b[0m\u001b[0m\n",
        "\u001b[0;31mAttributeError\u001b[0m: 'list' object has no attribute 'decode'"
       ]
      }
     ],
     "prompt_number": 21
    },
    {
     "cell_type": "markdown",
     "metadata": {},
     "source": [
      "## List bills in state legislatures"
     ]
    },
    {
     "cell_type": "code",
     "collapsed": false,
     "input": [
      "#alabama_bills = openstates.bills(state='AL', window='all')"
     ],
     "language": "python",
     "metadata": {},
     "outputs": [],
     "prompt_number": 4
    },
    {
     "cell_type": "code",
     "collapsed": false,
     "input": [
      "bills = openstates.bills(state='NC', window='term')"
     ],
     "language": "python",
     "metadata": {},
     "outputs": [],
     "prompt_number": 19
    },
    {
     "cell_type": "code",
     "collapsed": false,
     "input": [
      "bills[0]"
     ],
     "language": "python",
     "metadata": {},
     "outputs": [
      {
       "metadata": {},
       "output_type": "pyout",
       "prompt_number": 20,
       "text": [
        "{u'bill_id': u'HB 597',\n",
        " u'chamber': u'lower',\n",
        " u'created_at': u'2015-04-02 23:51:45',\n",
        " u'id': u'NCB00009209',\n",
        " u'session': u'2015',\n",
        " u'state': u'nc',\n",
        " u'subjects': [u'Public Services',\n",
        "  u'Legal Issues',\n",
        "  u'Municipal and County Issues',\n",
        "  u'Judiciary'],\n",
        " u'title': u'Mediated Settlement Agreements.',\n",
        " u'type': [u'bill'],\n",
        " u'updated_at': u'2015-05-13 00:00:22'}"
       ]
      }
     ],
     "prompt_number": 20
    },
    {
     "cell_type": "code",
     "collapsed": false,
     "input": [
      "for documents in bills:\n",
      "    \n",
      "    \n",
      "    bill_id_url = re.sub(' ', '', documents['bill_id'])\n",
      "    bill_detail = openstates.bill_detail(state='NC', session='2015', bill_id=documents['bill_id'])\n",
      "    bill_versions = bill_detail['versions']\n"
     ],
     "language": "python",
     "metadata": {},
     "outputs": [
      {
       "ename": "NameError",
       "evalue": "name 'bills' is not defined",
       "output_type": "pyerr",
       "traceback": [
        "\u001b[0;31m---------------------------------------------------------------------------\u001b[0m\n\u001b[0;31mNameError\u001b[0m                                 Traceback (most recent call last)",
        "\u001b[0;32m<ipython-input-18-870e037c516f>\u001b[0m in \u001b[0;36m<module>\u001b[0;34m()\u001b[0m\n\u001b[0;32m----> 1\u001b[0;31m \u001b[0;32mfor\u001b[0m \u001b[0mdocuments\u001b[0m \u001b[0;32min\u001b[0m \u001b[0mbills\u001b[0m\u001b[0;34m:\u001b[0m\u001b[0;34m\u001b[0m\u001b[0m\n\u001b[0m\u001b[1;32m      2\u001b[0m     \u001b[0;32mprint\u001b[0m \u001b[0mdocuments\u001b[0m \u001b[0;31m#['bill_id']\u001b[0m\u001b[0;34m\u001b[0m\u001b[0m\n\u001b[1;32m      3\u001b[0m \u001b[0;31m#nc_bills[1]['bill_id']\u001b[0m\u001b[0;34m\u001b[0m\u001b[0;34m\u001b[0m\u001b[0m\n",
        "\u001b[0;31mNameError\u001b[0m: name 'bills' is not defined"
       ]
      }
     ],
     "prompt_number": 18
    },
    {
     "cell_type": "code",
     "collapsed": false,
     "input": [
      "for document in nc_bills:\n",
      "    if document['bill_id'] == 'HB 511':\n",
      "        print document"
     ],
     "language": "python",
     "metadata": {},
     "outputs": [
      {
       "output_type": "stream",
       "stream": "stdout",
       "text": [
        "{u'title': u'Credit Unions/Statutory Changes.', u'created_at': u'2015-04-01 20:56:41', u'updated_at': u'2015-05-12 00:01:21', u'chamber': u'lower', u'state': u'nc', u'session': u'2015', u'subjects': [u'Commerce', u'Public Services'], u'type': [u'bill'], u'id': u'NCB00009121', u'bill_id': u'HB 511'}\n",
        "{u'title': u'Noncovered Vision Services.', u'created_at': u'2013-04-03 03:07:01', u'updated_at': u'2014-03-05 01:07:28', u'chamber': u'lower', u'state': u'nc', u'session': u'2013', u'subjects': [u'Public Services', u'Health', u'Insurance'], u'type': [u'bill'], u'id': u'NCB00006983', u'bill_id': u'HB 511'}\n",
        "{u'title': u'Goldsboro-Wayne Airport Authority.', u'created_at': u'2011-03-30 00:36:50', u'updated_at': u'2012-08-22 02:05:22', u'chamber': u'lower', u'state': u'nc', u'session': u'2011', u'subjects': [u'Business and Consumers', u'Other', u'Transportation', u'Municipal and County Issues', u'Legislative Affairs'], u'type': [u'bill'], u'id': u'NCB00004519', u'bill_id': u'HB 511'}\n",
        "{u'title': u'EMS/Fire Dept. Sales Tax Refund.', u'created_at': u'2010-12-02 22:39:03', u'updated_at': u'2012-04-03 19:58:15', u'chamber': u'lower', u'state': u'nc', u'session': u'2009', u'subjects': [], u'type': [u'bill'], u'id': u'NCB00001974', u'bill_id': u'HB 511'}\n"
       ]
      }
     ],
     "prompt_number": 8
    },
    {
     "cell_type": "code",
     "collapsed": false,
     "input": [
      "example_bill = openstates.bill_detail(state='NC', session='2015', bill_id='SB 511')"
     ],
     "language": "python",
     "metadata": {},
     "outputs": [],
     "prompt_number": 13
    },
    {
     "cell_type": "code",
     "collapsed": false,
     "input": [
      "example_bill['versions']"
     ],
     "language": "python",
     "metadata": {},
     "outputs": [
      {
       "metadata": {},
       "output_type": "pyout",
       "prompt_number": 14,
       "text": [
        "[{u'doc_id': u'NCD00026964',\n",
        "  u'mimetype': u'text/html',\n",
        "  u'name': u'Filed',\n",
        "  u'url': u'http://www.ncga.state.nc.us/Sessions/2015/Bills/Senate/HTML/S90v0.html'},\n",
        " {u'doc_id': u'NCD00026995',\n",
        "  u'mimetype': u'text/html',\n",
        "  u'name': u'Edition 1',\n",
        "  u'url': u'http://www.ncga.state.nc.us/Sessions/2015/Bills/Senate/HTML/S90v1.html'},\n",
        " {u'doc_id': u'NCD00030503',\n",
        "  u'mimetype': u'text/html',\n",
        "  u'name': u'Edition 2',\n",
        "  u'url': u'http://www.ncga.state.nc.us/Sessions/2015/Bills/Senate/HTML/S90v2.html'}]"
       ]
      }
     ],
     "prompt_number": 14
    }
   ],
   "metadata": {}
  }
 ]
}