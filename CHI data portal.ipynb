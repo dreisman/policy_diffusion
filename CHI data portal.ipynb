{
 "metadata": {
  "name": "",
  "signature": "sha256:9f576789563190b238bff138780eda578b9fbfb04bbf492d21d370e0b1993a68"
 },
 "nbformat": 3,
 "nbformat_minor": 0,
 "worksheets": [
  {
   "cells": [
    {
     "cell_type": "code",
     "collapsed": false,
     "input": [
      "from urllib2 import urlopen\n",
      "import json\n",
      "from pandas.io.json import json_normalize"
     ],
     "language": "python",
     "metadata": {},
     "outputs": [],
     "prompt_number": 31
    },
    {
     "cell_type": "code",
     "collapsed": false,
     "input": [
      "offsets = [1000*x for x in range(100)]"
     ],
     "language": "python",
     "metadata": {},
     "outputs": [],
     "prompt_number": 66
    },
    {
     "cell_type": "code",
     "collapsed": false,
     "input": [
      "result = []\n",
      "for element in offsets:\n",
      "    query = 'https://data.cityofchicago.org/resource/xzkq-xp2w.json?$limit=1000&$offset=%s' % (element,)\n",
      "    print query\n",
      "    request = urlopen(query)\n",
      "    result += json.load(request)"
     ],
     "language": "python",
     "metadata": {},
     "outputs": [
      {
       "output_type": "stream",
       "stream": "stdout",
       "text": [
        "https://data.cityofchicago.org/resource/xzkq-xp2w.json?$limit=1000&$offset=0\n",
        "https://data.cityofchicago.org/resource/xzkq-xp2w.json?$limit=1000&$offset=1000"
       ]
      },
      {
       "output_type": "stream",
       "stream": "stdout",
       "text": [
        "\n",
        "https://data.cityofchicago.org/resource/xzkq-xp2w.json?$limit=1000&$offset=2000"
       ]
      },
      {
       "output_type": "stream",
       "stream": "stdout",
       "text": [
        "\n",
        "https://data.cityofchicago.org/resource/xzkq-xp2w.json?$limit=1000&$offset=3000"
       ]
      },
      {
       "output_type": "stream",
       "stream": "stdout",
       "text": [
        "\n",
        "https://data.cityofchicago.org/resource/xzkq-xp2w.json?$limit=1000&$offset=4000"
       ]
      },
      {
       "output_type": "stream",
       "stream": "stdout",
       "text": [
        "\n",
        "https://data.cityofchicago.org/resource/xzkq-xp2w.json?$limit=1000&$offset=5000"
       ]
      },
      {
       "output_type": "stream",
       "stream": "stdout",
       "text": [
        "\n",
        "https://data.cityofchicago.org/resource/xzkq-xp2w.json?$limit=1000&$offset=6000"
       ]
      },
      {
       "output_type": "stream",
       "stream": "stdout",
       "text": [
        "\n",
        "https://data.cityofchicago.org/resource/xzkq-xp2w.json?$limit=1000&$offset=7000"
       ]
      },
      {
       "output_type": "stream",
       "stream": "stdout",
       "text": [
        "\n",
        "https://data.cityofchicago.org/resource/xzkq-xp2w.json?$limit=1000&$offset=8000"
       ]
      },
      {
       "output_type": "stream",
       "stream": "stdout",
       "text": [
        "\n",
        "https://data.cityofchicago.org/resource/xzkq-xp2w.json?$limit=1000&$offset=9000"
       ]
      },
      {
       "output_type": "stream",
       "stream": "stdout",
       "text": [
        "\n",
        "https://data.cityofchicago.org/resource/xzkq-xp2w.json?$limit=1000&$offset=10000"
       ]
      },
      {
       "output_type": "stream",
       "stream": "stdout",
       "text": [
        "\n",
        "https://data.cityofchicago.org/resource/xzkq-xp2w.json?$limit=1000&$offset=11000"
       ]
      },
      {
       "output_type": "stream",
       "stream": "stdout",
       "text": [
        "\n",
        "https://data.cityofchicago.org/resource/xzkq-xp2w.json?$limit=1000&$offset=12000"
       ]
      },
      {
       "output_type": "stream",
       "stream": "stdout",
       "text": [
        "\n",
        "https://data.cityofchicago.org/resource/xzkq-xp2w.json?$limit=1000&$offset=13000"
       ]
      },
      {
       "output_type": "stream",
       "stream": "stdout",
       "text": [
        "\n",
        "https://data.cityofchicago.org/resource/xzkq-xp2w.json?$limit=1000&$offset=14000"
       ]
      },
      {
       "output_type": "stream",
       "stream": "stdout",
       "text": [
        "\n",
        "https://data.cityofchicago.org/resource/xzkq-xp2w.json?$limit=1000&$offset=15000"
       ]
      },
      {
       "output_type": "stream",
       "stream": "stdout",
       "text": [
        "\n",
        "https://data.cityofchicago.org/resource/xzkq-xp2w.json?$limit=1000&$offset=16000"
       ]
      },
      {
       "output_type": "stream",
       "stream": "stdout",
       "text": [
        "\n",
        "https://data.cityofchicago.org/resource/xzkq-xp2w.json?$limit=1000&$offset=17000"
       ]
      },
      {
       "output_type": "stream",
       "stream": "stdout",
       "text": [
        "\n",
        "https://data.cityofchicago.org/resource/xzkq-xp2w.json?$limit=1000&$offset=18000"
       ]
      },
      {
       "output_type": "stream",
       "stream": "stdout",
       "text": [
        "\n",
        "https://data.cityofchicago.org/resource/xzkq-xp2w.json?$limit=1000&$offset=19000"
       ]
      },
      {
       "output_type": "stream",
       "stream": "stdout",
       "text": [
        "\n",
        "https://data.cityofchicago.org/resource/xzkq-xp2w.json?$limit=1000&$offset=20000"
       ]
      },
      {
       "output_type": "stream",
       "stream": "stdout",
       "text": [
        "\n",
        "https://data.cityofchicago.org/resource/xzkq-xp2w.json?$limit=1000&$offset=21000"
       ]
      },
      {
       "output_type": "stream",
       "stream": "stdout",
       "text": [
        "\n",
        "https://data.cityofchicago.org/resource/xzkq-xp2w.json?$limit=1000&$offset=22000"
       ]
      },
      {
       "output_type": "stream",
       "stream": "stdout",
       "text": [
        "\n",
        "https://data.cityofchicago.org/resource/xzkq-xp2w.json?$limit=1000&$offset=23000"
       ]
      },
      {
       "output_type": "stream",
       "stream": "stdout",
       "text": [
        "\n",
        "https://data.cityofchicago.org/resource/xzkq-xp2w.json?$limit=1000&$offset=24000"
       ]
      },
      {
       "output_type": "stream",
       "stream": "stdout",
       "text": [
        "\n",
        "https://data.cityofchicago.org/resource/xzkq-xp2w.json?$limit=1000&$offset=25000"
       ]
      },
      {
       "output_type": "stream",
       "stream": "stdout",
       "text": [
        "\n",
        "https://data.cityofchicago.org/resource/xzkq-xp2w.json?$limit=1000&$offset=26000"
       ]
      },
      {
       "output_type": "stream",
       "stream": "stdout",
       "text": [
        "\n",
        "https://data.cityofchicago.org/resource/xzkq-xp2w.json?$limit=1000&$offset=27000"
       ]
      },
      {
       "output_type": "stream",
       "stream": "stdout",
       "text": [
        "\n",
        "https://data.cityofchicago.org/resource/xzkq-xp2w.json?$limit=1000&$offset=28000"
       ]
      },
      {
       "output_type": "stream",
       "stream": "stdout",
       "text": [
        "\n",
        "https://data.cityofchicago.org/resource/xzkq-xp2w.json?$limit=1000&$offset=29000"
       ]
      },
      {
       "output_type": "stream",
       "stream": "stdout",
       "text": [
        "\n",
        "https://data.cityofchicago.org/resource/xzkq-xp2w.json?$limit=1000&$offset=30000"
       ]
      },
      {
       "output_type": "stream",
       "stream": "stdout",
       "text": [
        "\n",
        "https://data.cityofchicago.org/resource/xzkq-xp2w.json?$limit=1000&$offset=31000"
       ]
      },
      {
       "output_type": "stream",
       "stream": "stdout",
       "text": [
        "\n",
        "https://data.cityofchicago.org/resource/xzkq-xp2w.json?$limit=1000&$offset=32000"
       ]
      },
      {
       "output_type": "stream",
       "stream": "stdout",
       "text": [
        "\n",
        "https://data.cityofchicago.org/resource/xzkq-xp2w.json?$limit=1000&$offset=33000"
       ]
      },
      {
       "output_type": "stream",
       "stream": "stdout",
       "text": [
        "\n",
        "https://data.cityofchicago.org/resource/xzkq-xp2w.json?$limit=1000&$offset=34000"
       ]
      },
      {
       "output_type": "stream",
       "stream": "stdout",
       "text": [
        "\n",
        "https://data.cityofchicago.org/resource/xzkq-xp2w.json?$limit=1000&$offset=35000"
       ]
      },
      {
       "output_type": "stream",
       "stream": "stdout",
       "text": [
        "\n",
        "https://data.cityofchicago.org/resource/xzkq-xp2w.json?$limit=1000&$offset=36000"
       ]
      },
      {
       "output_type": "stream",
       "stream": "stdout",
       "text": [
        "\n",
        "https://data.cityofchicago.org/resource/xzkq-xp2w.json?$limit=1000&$offset=37000"
       ]
      },
      {
       "output_type": "stream",
       "stream": "stdout",
       "text": [
        "\n",
        "https://data.cityofchicago.org/resource/xzkq-xp2w.json?$limit=1000&$offset=38000"
       ]
      },
      {
       "output_type": "stream",
       "stream": "stdout",
       "text": [
        "\n",
        "https://data.cityofchicago.org/resource/xzkq-xp2w.json?$limit=1000&$offset=39000"
       ]
      },
      {
       "output_type": "stream",
       "stream": "stdout",
       "text": [
        "\n",
        "https://data.cityofchicago.org/resource/xzkq-xp2w.json?$limit=1000&$offset=40000"
       ]
      },
      {
       "output_type": "stream",
       "stream": "stdout",
       "text": [
        "\n",
        "https://data.cityofchicago.org/resource/xzkq-xp2w.json?$limit=1000&$offset=41000"
       ]
      },
      {
       "output_type": "stream",
       "stream": "stdout",
       "text": [
        "\n",
        "https://data.cityofchicago.org/resource/xzkq-xp2w.json?$limit=1000&$offset=42000"
       ]
      },
      {
       "output_type": "stream",
       "stream": "stdout",
       "text": [
        "\n",
        "https://data.cityofchicago.org/resource/xzkq-xp2w.json?$limit=1000&$offset=43000"
       ]
      },
      {
       "output_type": "stream",
       "stream": "stdout",
       "text": [
        "\n",
        "https://data.cityofchicago.org/resource/xzkq-xp2w.json?$limit=1000&$offset=44000"
       ]
      },
      {
       "output_type": "stream",
       "stream": "stdout",
       "text": [
        "\n",
        "https://data.cityofchicago.org/resource/xzkq-xp2w.json?$limit=1000&$offset=45000"
       ]
      },
      {
       "output_type": "stream",
       "stream": "stdout",
       "text": [
        "\n",
        "https://data.cityofchicago.org/resource/xzkq-xp2w.json?$limit=1000&$offset=46000"
       ]
      },
      {
       "output_type": "stream",
       "stream": "stdout",
       "text": [
        "\n",
        "https://data.cityofchicago.org/resource/xzkq-xp2w.json?$limit=1000&$offset=47000"
       ]
      },
      {
       "output_type": "stream",
       "stream": "stdout",
       "text": [
        "\n",
        "https://data.cityofchicago.org/resource/xzkq-xp2w.json?$limit=1000&$offset=48000"
       ]
      },
      {
       "output_type": "stream",
       "stream": "stdout",
       "text": [
        "\n",
        "https://data.cityofchicago.org/resource/xzkq-xp2w.json?$limit=1000&$offset=49000"
       ]
      },
      {
       "output_type": "stream",
       "stream": "stdout",
       "text": [
        "\n",
        "https://data.cityofchicago.org/resource/xzkq-xp2w.json?$limit=1000&$offset=50000"
       ]
      },
      {
       "output_type": "stream",
       "stream": "stdout",
       "text": [
        "\n",
        "https://data.cityofchicago.org/resource/xzkq-xp2w.json?$limit=1000&$offset=51000"
       ]
      },
      {
       "output_type": "stream",
       "stream": "stdout",
       "text": [
        "\n",
        "https://data.cityofchicago.org/resource/xzkq-xp2w.json?$limit=1000&$offset=52000"
       ]
      },
      {
       "output_type": "stream",
       "stream": "stdout",
       "text": [
        "\n",
        "https://data.cityofchicago.org/resource/xzkq-xp2w.json?$limit=1000&$offset=53000"
       ]
      },
      {
       "output_type": "stream",
       "stream": "stdout",
       "text": [
        "\n",
        "https://data.cityofchicago.org/resource/xzkq-xp2w.json?$limit=1000&$offset=54000"
       ]
      },
      {
       "output_type": "stream",
       "stream": "stdout",
       "text": [
        "\n",
        "https://data.cityofchicago.org/resource/xzkq-xp2w.json?$limit=1000&$offset=55000"
       ]
      },
      {
       "output_type": "stream",
       "stream": "stdout",
       "text": [
        "\n",
        "https://data.cityofchicago.org/resource/xzkq-xp2w.json?$limit=1000&$offset=56000"
       ]
      },
      {
       "output_type": "stream",
       "stream": "stdout",
       "text": [
        "\n",
        "https://data.cityofchicago.org/resource/xzkq-xp2w.json?$limit=1000&$offset=57000"
       ]
      },
      {
       "output_type": "stream",
       "stream": "stdout",
       "text": [
        "\n",
        "https://data.cityofchicago.org/resource/xzkq-xp2w.json?$limit=1000&$offset=58000"
       ]
      },
      {
       "output_type": "stream",
       "stream": "stdout",
       "text": [
        "\n",
        "https://data.cityofchicago.org/resource/xzkq-xp2w.json?$limit=1000&$offset=59000"
       ]
      },
      {
       "output_type": "stream",
       "stream": "stdout",
       "text": [
        "\n",
        "https://data.cityofchicago.org/resource/xzkq-xp2w.json?$limit=1000&$offset=60000"
       ]
      },
      {
       "output_type": "stream",
       "stream": "stdout",
       "text": [
        "\n",
        "https://data.cityofchicago.org/resource/xzkq-xp2w.json?$limit=1000&$offset=61000"
       ]
      },
      {
       "output_type": "stream",
       "stream": "stdout",
       "text": [
        "\n",
        "https://data.cityofchicago.org/resource/xzkq-xp2w.json?$limit=1000&$offset=62000"
       ]
      },
      {
       "output_type": "stream",
       "stream": "stdout",
       "text": [
        "\n",
        "https://data.cityofchicago.org/resource/xzkq-xp2w.json?$limit=1000&$offset=63000"
       ]
      },
      {
       "output_type": "stream",
       "stream": "stdout",
       "text": [
        "\n",
        "https://data.cityofchicago.org/resource/xzkq-xp2w.json?$limit=1000&$offset=64000"
       ]
      },
      {
       "output_type": "stream",
       "stream": "stdout",
       "text": [
        "\n",
        "https://data.cityofchicago.org/resource/xzkq-xp2w.json?$limit=1000&$offset=65000"
       ]
      },
      {
       "output_type": "stream",
       "stream": "stdout",
       "text": [
        "\n",
        "https://data.cityofchicago.org/resource/xzkq-xp2w.json?$limit=1000&$offset=66000"
       ]
      },
      {
       "output_type": "stream",
       "stream": "stdout",
       "text": [
        "\n",
        "https://data.cityofchicago.org/resource/xzkq-xp2w.json?$limit=1000&$offset=67000"
       ]
      },
      {
       "output_type": "stream",
       "stream": "stdout",
       "text": [
        "\n",
        "https://data.cityofchicago.org/resource/xzkq-xp2w.json?$limit=1000&$offset=68000"
       ]
      },
      {
       "output_type": "stream",
       "stream": "stdout",
       "text": [
        "\n",
        "https://data.cityofchicago.org/resource/xzkq-xp2w.json?$limit=1000&$offset=69000"
       ]
      },
      {
       "output_type": "stream",
       "stream": "stdout",
       "text": [
        "\n",
        "https://data.cityofchicago.org/resource/xzkq-xp2w.json?$limit=1000&$offset=70000"
       ]
      },
      {
       "output_type": "stream",
       "stream": "stdout",
       "text": [
        "\n",
        "https://data.cityofchicago.org/resource/xzkq-xp2w.json?$limit=1000&$offset=71000"
       ]
      },
      {
       "output_type": "stream",
       "stream": "stdout",
       "text": [
        "\n",
        "https://data.cityofchicago.org/resource/xzkq-xp2w.json?$limit=1000&$offset=72000"
       ]
      },
      {
       "output_type": "stream",
       "stream": "stdout",
       "text": [
        "\n",
        "https://data.cityofchicago.org/resource/xzkq-xp2w.json?$limit=1000&$offset=73000"
       ]
      },
      {
       "output_type": "stream",
       "stream": "stdout",
       "text": [
        "\n",
        "https://data.cityofchicago.org/resource/xzkq-xp2w.json?$limit=1000&$offset=74000"
       ]
      },
      {
       "output_type": "stream",
       "stream": "stdout",
       "text": [
        "\n",
        "https://data.cityofchicago.org/resource/xzkq-xp2w.json?$limit=1000&$offset=75000"
       ]
      },
      {
       "output_type": "stream",
       "stream": "stdout",
       "text": [
        "\n",
        "https://data.cityofchicago.org/resource/xzkq-xp2w.json?$limit=1000&$offset=76000"
       ]
      },
      {
       "output_type": "stream",
       "stream": "stdout",
       "text": [
        "\n",
        "https://data.cityofchicago.org/resource/xzkq-xp2w.json?$limit=1000&$offset=77000"
       ]
      },
      {
       "output_type": "stream",
       "stream": "stdout",
       "text": [
        "\n",
        "https://data.cityofchicago.org/resource/xzkq-xp2w.json?$limit=1000&$offset=78000"
       ]
      },
      {
       "output_type": "stream",
       "stream": "stdout",
       "text": [
        "\n",
        "https://data.cityofchicago.org/resource/xzkq-xp2w.json?$limit=1000&$offset=79000"
       ]
      },
      {
       "output_type": "stream",
       "stream": "stdout",
       "text": [
        "\n",
        "https://data.cityofchicago.org/resource/xzkq-xp2w.json?$limit=1000&$offset=80000"
       ]
      },
      {
       "output_type": "stream",
       "stream": "stdout",
       "text": [
        "\n",
        "https://data.cityofchicago.org/resource/xzkq-xp2w.json?$limit=1000&$offset=81000"
       ]
      },
      {
       "output_type": "stream",
       "stream": "stdout",
       "text": [
        "\n",
        "https://data.cityofchicago.org/resource/xzkq-xp2w.json?$limit=1000&$offset=82000"
       ]
      },
      {
       "output_type": "stream",
       "stream": "stdout",
       "text": [
        "\n",
        "https://data.cityofchicago.org/resource/xzkq-xp2w.json?$limit=1000&$offset=83000"
       ]
      },
      {
       "output_type": "stream",
       "stream": "stdout",
       "text": [
        "\n",
        "https://data.cityofchicago.org/resource/xzkq-xp2w.json?$limit=1000&$offset=84000"
       ]
      },
      {
       "output_type": "stream",
       "stream": "stdout",
       "text": [
        "\n",
        "https://data.cityofchicago.org/resource/xzkq-xp2w.json?$limit=1000&$offset=85000"
       ]
      },
      {
       "output_type": "stream",
       "stream": "stdout",
       "text": [
        "\n",
        "https://data.cityofchicago.org/resource/xzkq-xp2w.json?$limit=1000&$offset=86000"
       ]
      },
      {
       "output_type": "stream",
       "stream": "stdout",
       "text": [
        "\n",
        "https://data.cityofchicago.org/resource/xzkq-xp2w.json?$limit=1000&$offset=87000"
       ]
      },
      {
       "output_type": "stream",
       "stream": "stdout",
       "text": [
        "\n",
        "https://data.cityofchicago.org/resource/xzkq-xp2w.json?$limit=1000&$offset=88000"
       ]
      },
      {
       "output_type": "stream",
       "stream": "stdout",
       "text": [
        "\n",
        "https://data.cityofchicago.org/resource/xzkq-xp2w.json?$limit=1000&$offset=89000"
       ]
      },
      {
       "output_type": "stream",
       "stream": "stdout",
       "text": [
        "\n",
        "https://data.cityofchicago.org/resource/xzkq-xp2w.json?$limit=1000&$offset=90000"
       ]
      },
      {
       "output_type": "stream",
       "stream": "stdout",
       "text": [
        "\n",
        "https://data.cityofchicago.org/resource/xzkq-xp2w.json?$limit=1000&$offset=91000"
       ]
      },
      {
       "output_type": "stream",
       "stream": "stdout",
       "text": [
        "\n",
        "https://data.cityofchicago.org/resource/xzkq-xp2w.json?$limit=1000&$offset=92000"
       ]
      },
      {
       "output_type": "stream",
       "stream": "stdout",
       "text": [
        "\n",
        "https://data.cityofchicago.org/resource/xzkq-xp2w.json?$limit=1000&$offset=93000"
       ]
      },
      {
       "output_type": "stream",
       "stream": "stdout",
       "text": [
        "\n",
        "https://data.cityofchicago.org/resource/xzkq-xp2w.json?$limit=1000&$offset=94000"
       ]
      },
      {
       "output_type": "stream",
       "stream": "stdout",
       "text": [
        "\n",
        "https://data.cityofchicago.org/resource/xzkq-xp2w.json?$limit=1000&$offset=95000"
       ]
      },
      {
       "output_type": "stream",
       "stream": "stdout",
       "text": [
        "\n",
        "https://data.cityofchicago.org/resource/xzkq-xp2w.json?$limit=1000&$offset=96000"
       ]
      },
      {
       "output_type": "stream",
       "stream": "stdout",
       "text": [
        "\n",
        "https://data.cityofchicago.org/resource/xzkq-xp2w.json?$limit=1000&$offset=97000"
       ]
      },
      {
       "output_type": "stream",
       "stream": "stdout",
       "text": [
        "\n",
        "https://data.cityofchicago.org/resource/xzkq-xp2w.json?$limit=1000&$offset=98000"
       ]
      },
      {
       "output_type": "stream",
       "stream": "stdout",
       "text": [
        "\n",
        "https://data.cityofchicago.org/resource/xzkq-xp2w.json?$limit=1000&$offset=99000"
       ]
      },
      {
       "output_type": "stream",
       "stream": "stdout",
       "text": [
        "\n"
       ]
      }
     ],
     "prompt_number": 67
    },
    {
     "cell_type": "code",
     "collapsed": false,
     "input": [
      "data = json_normalize(result)"
     ],
     "language": "python",
     "metadata": {},
     "outputs": [],
     "prompt_number": 68
    },
    {
     "cell_type": "code",
     "collapsed": false,
     "input": [
      "data.describe()"
     ],
     "language": "python",
     "metadata": {},
     "outputs": [
      {
       "html": [
        "<div style=\"max-height:1000px;max-width:1500px;overflow:auto;\">\n",
        "<table border=\"1\" class=\"dataframe\">\n",
        "  <thead>\n",
        "    <tr style=\"text-align: right;\">\n",
        "      <th></th>\n",
        "      <th>department</th>\n",
        "      <th>employee_annual_salary</th>\n",
        "      <th>job_titles</th>\n",
        "      <th>name</th>\n",
        "    </tr>\n",
        "  </thead>\n",
        "  <tbody>\n",
        "    <tr>\n",
        "      <th>count</th>\n",
        "      <td>  32160</td>\n",
        "      <td>    32160</td>\n",
        "      <td>          32160</td>\n",
        "      <td>          32160</td>\n",
        "    </tr>\n",
        "    <tr>\n",
        "      <th>unique</th>\n",
        "      <td>     35</td>\n",
        "      <td>     1123</td>\n",
        "      <td>           1096</td>\n",
        "      <td>          31890</td>\n",
        "    </tr>\n",
        "    <tr>\n",
        "      <th>top</th>\n",
        "      <td> POLICE</td>\n",
        "      <td> 78012.00</td>\n",
        "      <td> POLICE OFFICER</td>\n",
        "      <td> PEREZ,  JOSE A</td>\n",
        "    </tr>\n",
        "    <tr>\n",
        "      <th>freq</th>\n",
        "      <td>  13572</td>\n",
        "      <td>     2593</td>\n",
        "      <td>           9437</td>\n",
        "      <td>              4</td>\n",
        "    </tr>\n",
        "  </tbody>\n",
        "</table>\n",
        "</div>"
       ],
       "metadata": {},
       "output_type": "pyout",
       "prompt_number": 76,
       "text": [
        "       department employee_annual_salary      job_titles            name\n",
        "count       32160                  32160           32160           32160\n",
        "unique         35                   1123            1096           31890\n",
        "top        POLICE               78012.00  POLICE OFFICER  PEREZ,  JOSE A\n",
        "freq        13572                   2593            9437               4"
       ]
      }
     ],
     "prompt_number": 76
    },
    {
     "cell_type": "code",
     "collapsed": false,
     "input": [
      "from matplotlib import pyplot as plt"
     ],
     "language": "python",
     "metadata": {},
     "outputs": [],
     "prompt_number": 80
    },
    {
     "cell_type": "code",
     "collapsed": false,
     "input": [
      "plt."
     ],
     "language": "python",
     "metadata": {},
     "outputs": [],
     "prompt_number": 41
    },
    {
     "cell_type": "code",
     "collapsed": false,
     "input": [],
     "language": "python",
     "metadata": {},
     "outputs": []
    }
   ],
   "metadata": {}
  }
 ]
}